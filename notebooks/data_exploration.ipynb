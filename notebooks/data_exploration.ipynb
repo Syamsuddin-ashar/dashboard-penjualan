{
 "cells": [
  {
   "cell_type": "code",
   "execution_count": null,
   "id": "11ddf9fd",
   "metadata": {
    "vscode": {
     "languageId": "plaintext"
    }
   },
   "outputs": [],
   "source": [
    "# ========================================\n",
    "# 📊 Eksplorasi Data Penjualan\n",
    "# Dibuat oleh: Ashar Talatee\n",
    "# Tujuan: Menemukan insight dasar untuk dashboard interaktif\n",
    "# ========================================\n",
    "\n",
    "import pandas as pd\n",
    "import matplotlib.pyplot as plt\n",
    "import seaborn as sns\n",
    "\n",
    "# Baca data bersih\n",
    "df = pd.read_csv(\"../data/processed/penjualan_bersih.csv\")\n",
    "df.head()\n"
   ]
  },
  {
   "cell_type": "code",
   "execution_count": null,
   "id": "53a105da",
   "metadata": {
    "vscode": {
     "languageId": "plaintext"
    }
   },
   "outputs": [],
   "source": [
    "# Hitung total penjualan per hari\n",
    "daily_sales = df.groupby('tanggal')['pendapatan'].sum().reset_index()\n",
    "daily_sales.head()\n",
    "\n",
    "# Simpan ke CSV\n",
    "daily_sales.to_csv(\"../data/processed/agregat_harian.csv\", index=False)\n",
    "\n",
    "# Visualisasi sederhana\n",
    "plt.figure(figsize=(10,4))\n",
    "plt.plot(daily_sales['tanggal'], daily_sales['pendapatan'], marker='o')\n",
    "plt.title(\"Tren Penjualan Harian\")\n",
    "plt.xlabel(\"Tanggal\")\n",
    "plt.ylabel(\"Pendapatan (Rp)\")\n",
    "plt.grid(True)\n",
    "plt.show()\n"
   ]
  },
  {
   "cell_type": "code",
   "execution_count": null,
   "id": "6d3e1d79",
   "metadata": {
    "vscode": {
     "languageId": "plaintext"
    }
   },
   "outputs": [],
   "source": [
    "# Hitung total pendapatan per produk\n",
    "top_products = df.groupby('produk')['pendapatan'].sum().reset_index()\n",
    "top_products = top_products.sort_values(by='pendapatan', ascending=False)\n",
    "top_products.to_csv(\"../data/processed/produk_terlaris.csv\", index=False)\n",
    "\n",
    "# Visualisasi\n",
    "plt.figure(figsize=(8,4))\n",
    "sns.barplot(x='pendapatan', y='produk', data=top_products, palette='Blues_r')\n",
    "plt.title(\"Produk Terlaris Berdasarkan Pendapatan\")\n",
    "plt.xlabel(\"Total Pendapatan (Rp)\")\n",
    "plt.ylabel(\"Produk\")\n",
    "plt.show()\n"
   ]
  },
  {
   "cell_type": "code",
   "execution_count": null,
   "id": "5d4f0217",
   "metadata": {
    "vscode": {
     "languageId": "plaintext"
    }
   },
   "outputs": [],
   "source": [
    "# Hitung total pendapatan per produk\n",
    "top_products = df.groupby('produk')['pendapatan'].sum().reset_index()\n",
    "top_products = top_products.sort_values(by='pendapatan', ascending=False)\n",
    "top_products.to_csv(\"../data/processed/produk_terlaris.csv\", index=False)\n",
    "\n",
    "# Visualisasi\n",
    "plt.figure(figsize=(8,4))\n",
    "sns.barplot(x='pendapatan', y='produk', data=top_products, palette='Blues_r')\n",
    "plt.title(\"Produk Terlaris Berdasarkan Pendapatan\")\n",
    "plt.xlabel(\"Total Pendapatan (Rp)\")\n",
    "plt.ylabel(\"Produk\")\n",
    "plt.show()\n"
   ]
  },
  {
   "cell_type": "markdown",
   "id": "dd3e801b",
   "metadata": {},
   "source": [
    "\n",
    "---\n",
    "\n",
    "## ✅ **Output Akhir Hari 4**\n",
    "\n",
    "| Komponen | Status |\n",
    "|-----------|---------|\n",
    "| Dashboard tampil di browser | ✅ |\n",
    "| Sidebar filter interaktif | ✅ |\n",
    "| Metrik utama dinamis | ✅ |\n",
    "| Grafik tren penjualan muncul | ✅ |\n",
    "| Struktur folder modular | ✅ |\n",
    "| Style & branding dasar | ✅ |\n",
    "\n",
    "---\n",
    "\n",
    "🔥 Selamat, Ashar — mulai hari ini kamu sudah punya **dashboard interaktif real-time pertama** buatan sendiri!  \n",
    "Besok kita lanjut **Hari 5 – Visualisasi Lanjut**, di mana kita tambahkan:\n",
    "- Produk terlaris (bar chart)  \n",
    "- Pendapatan per kategori (pie chart)  \n",
    "- Tren mingguan (line chart)  \n",
    "+ sedikit polesan visual biar tampak profesional.\n",
    "\n",
    "---\n",
    "\n",
    "Mau saya lanjutkan langsung ke **Hari 5 (lengkap dengan file, struktur, dan kode 3 grafik tambahan + styling)**?\n"
   ]
  }
 ],
 "metadata": {
  "language_info": {
   "name": "python"
  }
 },
 "nbformat": 4,
 "nbformat_minor": 5
}
